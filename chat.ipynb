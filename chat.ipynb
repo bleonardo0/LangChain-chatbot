{
 "cells": [
  {
   "cell_type": "code",
   "execution_count": 15,
   "metadata": {},
   "outputs": [
    {
     "data": {
      "text/plain": [
       "True"
      ]
     },
     "execution_count": 15,
     "metadata": {},
     "output_type": "execute_result"
    }
   ],
   "source": [
    "import dotenv\n",
    "\n",
    "dotenv.load_dotenv()"
   ]
  },
  {
   "cell_type": "code",
   "execution_count": 16,
   "metadata": {},
   "outputs": [],
   "source": [
    "from langchain_community.tools.tavily_search import TavilySearchResults\n",
    "from langchain_openai import ChatOpenAI\n",
    "\n",
    "tools = [TavilySearchResults(max_results=1)]\n",
    "\n",
    "chat = ChatOpenAI(model=\"gpt-3.5-turbo-1106\", temperature=0)"
   ]
  },
  {
   "cell_type": "code",
   "execution_count": 17,
   "metadata": {},
   "outputs": [],
   "source": [
    "from langchain_community.tools.tavily_search import TavilySearchResults\n",
    "\n",
    "tool = TavilySearchResults()"
   ]
  },
  {
   "cell_type": "code",
   "execution_count": 18,
   "metadata": {},
   "outputs": [
    {
     "data": {
      "text/plain": [
       "[{'url': 'https://support.madkudu.com/hc/en-us/articles/4406384883213-Troubleshooting-Login-issues-on-Madkudu-App',\n",
       "  'content': 'Role \"Sales User\" only has access to Madkudu Copilot. To use the Single Sign-On login option, your organization must have set up the Okta SSO integration with MadKudu first. If it was set up by the Okta admin of your organization, please reach out to them to assign you to MadKudu (both in Okta and MadKudu).'},\n",
       " {'url': 'https://support.madkudu.com/hc/en-us/categories/360002419272-Still-need-help',\n",
       "  'content': 'Find the multiple options to access MadKudu support Frequently Asked Questions. Troubleshooting: login issues; Why is this record becoming an MQL? If I update an email address on a Lead or Contact in Salesforce, will MadKudu rescore it? ...'},\n",
       " {'url': 'https://support.madkudu.com/hc/en-us/articles/360036535232-Introduction-to-MadKudu',\n",
       "  'content': 'MadKudu Scoring. With MadKudu, qualify your prospects to send to Sales with AI scoring and directly in your CRM. MadKudu ingests as much data as possible to predict the likelihood of a prospect to convert into a customer. Get full control of your scoring in the Data Studio, with insights on your Ideal Customer Profile and most important actions ...'},\n",
       " {'url': 'https://support.madkudu.com/hc/en-us/articles/10847839218701-How-to-create-a-MadKudu-help-center-account',\n",
       "  'content': 'Access exclusive tutorial videos, how to and overview of the MadKudu platform; Track all your support tickets in a single place; Comment on articles, follow topics and interests and share satisfaction; To do so, you can sign up with Google SSO or with your email. Signing up with Google SSO. Visit MadKudu Help Center home page here'},\n",
       " {'url': 'https://support.madkudu.com/hc/en-us',\n",
       "  'content': \"A guide through MadKudu's features made for Operations-oriented roles. How To's. Explore MadKudu platform through Marketing and Sales use cases . Video Tutorials & Webinar Replays. Get the most of MadKudu learning content in interactive format. [Sign in access only] Integrations. Connect MadKudu with many data sources, including CRM, MAP or ...\"}]"
      ]
     },
     "execution_count": 18,
     "metadata": {},
     "output_type": "execute_result"
    }
   ],
   "source": [
    "tool.invoke({\"query\": \"support.madkudu.com/hc/en-us\"})"
   ]
  },
  {
   "cell_type": "code",
   "execution_count": 19,
   "metadata": {},
   "outputs": [],
   "source": [
    "from langchain_community.document_loaders import TextLoader\n",
    "\n",
    "loader = TextLoader(\"./madkudu.txt\")\n",
    "data = loader.load()"
   ]
  },
  {
   "cell_type": "code",
   "execution_count": 20,
   "metadata": {},
   "outputs": [],
   "source": [
    "from langchain_text_splitters import RecursiveCharacterTextSplitter\n",
    "\n",
    "text_splitter = RecursiveCharacterTextSplitter(chunk_size=500, chunk_overlap=0)\n",
    "all_splits = text_splitter.split_documents(data)"
   ]
  },
  {
   "cell_type": "code",
   "execution_count": 21,
   "metadata": {},
   "outputs": [],
   "source": [
    "from langchain_chroma import Chroma\n",
    "from langchain_openai import OpenAIEmbeddings\n",
    "\n",
    "vectorstore = Chroma.from_documents(documents=all_splits, embedding=OpenAIEmbeddings())"
   ]
  },
  {
   "cell_type": "code",
   "execution_count": 36,
   "metadata": {},
   "outputs": [
    {
     "data": {
      "text/plain": [
       "[Document(page_content='MadKudu ingests multiple sources of data to help you qualify your prospects and arm your sellers to engage with them', metadata={'source': './madkudu.txt'}),\n",
       " Document(page_content='MadKudu ingests multiple sources of data to help you qualify your prospects and arm your sellers to engage with them', metadata={'source': './madkudu.txt'}),\n",
       " Document(page_content='Was this article helpful? 1 out of 1 found this helpful\\nHave more questions? Submit a request\\nReturn to top\\nRecently viewed articles\\n\\nIntroduction to MadKudu Copilot\\nHow Marketing Uses MadKudu\\nIntroduction to MadKudu\\nRelated articles', metadata={'source': './madkudu.txt'}),\n",
       " Document(page_content='Was this article helpful? 1 out of 1 found this helpful\\nHave more questions? Submit a request\\nReturn to top\\nRecently viewed articles\\n\\nIntroduction to MadKudu Copilot\\nHow Marketing Uses MadKudu\\nIntroduction to MadKudu\\nRelated articles', metadata={'source': './madkudu.txt'})]"
      ]
     },
     "execution_count": 36,
     "metadata": {},
     "output_type": "execute_result"
    }
   ],
   "source": [
    "retriever = vectorstore.as_retriever(k=4)\n",
    "\n",
    "docs = retriever.invoke(\"madkudu support\")\n",
    "\n",
    "docs"
   ]
  },
  {
   "cell_type": "code",
   "execution_count": 30,
   "metadata": {},
   "outputs": [],
   "source": [
    "from langchain_core.prompts import ChatPromptTemplate, MessagesPlaceholder\n",
    "\n",
    "prompt = ChatPromptTemplate.from_messages(\n",
    "    [\n",
    "        (\n",
    "            \"system\",\n",
    "            \"You are a helpful assistant working at Madkudu. You will need to chat and respond about question to help the user. respond only about madkudu questions.\",\n",
    "        ),\n",
    "        MessagesPlaceholder(variable_name=\"messages\"),\n",
    "        MessagesPlaceholder(variable_name=\"agent_scratchpad\"),\n",
    "    ]\n",
    ")"
   ]
  },
  {
   "cell_type": "code",
   "execution_count": 24,
   "metadata": {},
   "outputs": [],
   "source": [
    "from langchain.agents import AgentExecutor, create_openai_tools_agent\n",
    "\n",
    "agent = create_openai_tools_agent(chat, tools, prompt)\n",
    "\n",
    "agent_executor = AgentExecutor(agent=agent, tools=tools, verbose=True)"
   ]
  },
  {
   "cell_type": "code",
   "execution_count": 35,
   "metadata": {},
   "outputs": [
    {
     "name": "stdout",
     "output_type": "stream",
     "text": [
      "\n",
      "\n",
      "\u001b[1m> Entering new AgentExecutor chain...\u001b[0m\n",
      "\u001b[32;1m\u001b[1;3m\n",
      "Invoking: `tavily_search_results_json` with `{'query': 'what is Madkudu'}`\n",
      "\n",
      "\n",
      "\u001b[0m\u001b[36;1m\u001b[1;3m[{'url': 'https://www.madkudu.com/', 'content': \"MadKudu reduces the noise for our team, and allows sales and marketing to focus on personalizing outreach to the right accounts. With MadKudu's predictive scores, no more revenue is falling through the cracks. MadKudu predicts and prioritizes revenue-generating actions. Accelerate revenue and drive ROI with MadKudu's revenue automation ...\"}]\u001b[0m\u001b[32;1m\u001b[1;3mMadkudu is a platform that reduces noise for sales and marketing teams, allowing them to focus on personalizing outreach to the right accounts. It uses predictive scores to prioritize revenue-generating actions and accelerate revenue. You can find more information on their website: [Madkudu](https://www.madkudu.com/)\u001b[0m\n",
      "\n",
      "\u001b[1m> Finished chain.\u001b[0m\n"
     ]
    },
    {
     "data": {
      "text/plain": [
       "{'messages': [HumanMessage(content='what is madkudu')],\n",
       " 'output': 'Madkudu is a platform that reduces noise for sales and marketing teams, allowing them to focus on personalizing outreach to the right accounts. It uses predictive scores to prioritize revenue-generating actions and accelerate revenue. You can find more information on their website: [Madkudu](https://www.madkudu.com/)'}"
      ]
     },
     "execution_count": 35,
     "metadata": {},
     "output_type": "execute_result"
    }
   ],
   "source": [
    "from langchain_core.messages import HumanMessage\n",
    "\n",
    "\n",
    "### This is the main entry point for the agent\n",
    "agent_executor.invoke({\"messages\": [HumanMessage(content=\"what is madkudu\")]})"
   ]
  },
  {
   "cell_type": "code",
   "execution_count": 33,
   "metadata": {},
   "outputs": [],
   "source": [
    "from langchain.chains.combine_documents import create_stuff_documents_chain\n",
    "from langchain_core.prompts import ChatPromptTemplate, MessagesPlaceholder\n",
    "\n",
    "SYSTEM_TEMPLATE = \"\"\"\n",
    "Answer the user's questions based on the below context and any information you have about Madkudu.\n",
    "If the context doesn't contain any relevant information to the question, don't make something up and just say \"Im here to respond to madkudu question only\":\n",
    "\n",
    "<context>\n",
    "{context}\n",
    "</context>\n",
    "\"\"\"\n",
    "\n",
    "question_answering_prompt = ChatPromptTemplate.from_messages(\n",
    "    [\n",
    "        (\n",
    "            \"system\",\n",
    "            SYSTEM_TEMPLATE,\n",
    "        ),\n",
    "        MessagesPlaceholder(variable_name=\"messages\"),\n",
    "    ]\n",
    ")\n",
    "\n",
    "document_chain = create_stuff_documents_chain(chat, question_answering_prompt)"
   ]
  },
  {
   "cell_type": "markdown",
   "metadata": {},
   "source": [
    "WITH Context"
   ]
  },
  {
   "cell_type": "code",
   "execution_count": 40,
   "metadata": {},
   "outputs": [
    {
     "data": {
      "text/plain": [
       "'Im here to respond to madkudu question only'"
      ]
     },
     "execution_count": 40,
     "metadata": {},
     "output_type": "execute_result"
    }
   ],
   "source": [
    "from langchain_core.messages import HumanMessage\n",
    "\n",
    "document_chain.invoke(\n",
    "    {\n",
    "        \"context\": docs,\n",
    "        \"messages\": [\n",
    "            HumanMessage(content=\"How do I perform GDPR-compliant requests in MadKudu?\"),\n",
    "        ],\n",
    "    }\n",
    ")"
   ]
  },
  {
   "cell_type": "markdown",
   "metadata": {},
   "source": [
    "WITH NO Context"
   ]
  },
  {
   "cell_type": "code",
   "execution_count": 39,
   "metadata": {},
   "outputs": [
    {
     "data": {
      "text/plain": [
       "\"MadKudu provides tools and features to help businesses comply with GDPR regulations. To perform GDPR-compliant requests in MadKudu, you can utilize the platform's data management and privacy features to handle data subject requests, such as access, rectification, erasure, and portability. Additionally, MadKudu offers capabilities for managing consent and preferences, as well as data retention and deletion. For specific guidance on performing GDPR-compliant requests in MadKudu, I recommend reaching out to their support team or consulting their documentation for detailed instructions.\""
      ]
     },
     "execution_count": 39,
     "metadata": {},
     "output_type": "execute_result"
    }
   ],
   "source": [
    "from langchain_core.messages import HumanMessage\n",
    "\n",
    "document_chain.invoke(\n",
    "    {\n",
    "        \"context\": [],\n",
    "        \"messages\": [\n",
    "            HumanMessage(content=\"How do I perform GDPR-compliant requests in MadKudu?\"),\n",
    "        ],\n",
    "    }\n",
    ")"
   ]
  }
 ],
 "metadata": {
  "kernelspec": {
   "display_name": "base",
   "language": "python",
   "name": "python3"
  },
  "language_info": {
   "codemirror_mode": {
    "name": "ipython",
    "version": 3
   },
   "file_extension": ".py",
   "mimetype": "text/x-python",
   "name": "python",
   "nbconvert_exporter": "python",
   "pygments_lexer": "ipython3",
   "version": "3.11.7"
  }
 },
 "nbformat": 4,
 "nbformat_minor": 2
}
