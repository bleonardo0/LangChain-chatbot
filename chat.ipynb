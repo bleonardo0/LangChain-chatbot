{
 "cells": [
  {
   "cell_type": "code",
   "execution_count": 101,
   "metadata": {},
   "outputs": [
    {
     "data": {
      "text/plain": [
       "True"
      ]
     },
     "execution_count": 101,
     "metadata": {},
     "output_type": "execute_result"
    }
   ],
   "source": [
    "import dotenv\n",
    "\n",
    "dotenv.load_dotenv()"
   ]
  },
  {
   "cell_type": "code",
   "execution_count": 102,
   "metadata": {},
   "outputs": [],
   "source": [
    "from langchain_community.tools.tavily_search import TavilySearchResults\n",
    "from langchain_openai import ChatOpenAI\n",
    "\n",
    "tools = [TavilySearchResults(max_results=1)]\n",
    "\n",
    "chat = ChatOpenAI(model=\"gpt-3.5-turbo-1106\", temperature=0)"
   ]
  },
  {
   "cell_type": "code",
   "execution_count": 103,
   "metadata": {},
   "outputs": [],
   "source": [
    "from langchain_community.tools.tavily_search import TavilySearchResults\n",
    "\n",
    "tool = TavilySearchResults()"
   ]
  },
  {
   "cell_type": "code",
   "execution_count": 104,
   "metadata": {},
   "outputs": [
    {
     "data": {
      "text/plain": [
       "[{'url': 'https://support.madkudu.com/hc/en-us/articles/10312876944653-Troubleshooting-MadKudu-Copilot',\n",
       "  'content': 'If you are a MadKudu Admin, log in to app.madkudu.com and navigate to Settings > Users. Click \"Add new use r\", enter their email address and select the role \"Sales user\". They\\'ll receive an invitation to accept and then will be able to connect in Salesforce. See more here: Invite users to MadKudu'},\n",
       " {'url': 'https://support.madkudu.com/hc/en-us/articles/360036535232-Introduction-to-MadKudu',\n",
       "  'content': 'MadKudu Scoring. With MadKudu, qualify your prospects to send to Sales with AI scoring and directly in your CRM. MadKudu ingests as much data as possible to predict the likelihood of a prospect to convert into a customer. Get full control of your scoring in the Data Studio, with insights on your Ideal Customer Profile and most important actions ...'},\n",
       " {'url': 'https://support.madkudu.com/hc/en-us',\n",
       "  'content': \"A guide through MadKudu's features made for Operations-oriented roles. How To's. Explore MadKudu platform through Marketing and Sales use cases . Video Tutorials & Webinar Replays. Get the most of MadKudu learning content in interactive format. [Sign in access only] Integrations. Connect MadKudu with many data sources, including CRM, MAP or ...\"},\n",
       " {'url': 'https://support.madkudu.com/hc/en-us/articles/4406384883213-Troubleshooting-Login-issues-on-Madkudu-App',\n",
       "  'content': 'Role \"Sales User\" only has access to Madkudu Copilot. To use the Single Sign-On login option, your organization must have set up the Okta SSO integration with MadKudu first. If it was set up by the Okta admin of your organization, please reach out to them to assign you to MadKudu (both in Okta and MadKudu).'},\n",
       " {'url': 'https://support.madkudu.com/hc/en-us/articles/360037475992-Get-help-from-MadKudu-support',\n",
       "  'content': 'From the MadKudu platform. Open the chatbot from any page on the MadKudu App or Data Studio platform. Click on Send us a message. Type your message and make sure to include what you are trying to achieve, which difficulties you face, and what you already tried. This will help us be efficient in our response. An agent will follow up with you.'}]"
      ]
     },
     "execution_count": 104,
     "metadata": {},
     "output_type": "execute_result"
    }
   ],
   "source": [
    "tool.invoke({\"query\": \"support.madkudu.com/hc/en-us\"})"
   ]
  },
  {
   "cell_type": "code",
   "execution_count": 105,
   "metadata": {},
   "outputs": [],
   "source": [
    "from langchain_community.document_loaders import TextLoader\n",
    "\n",
    "loader = TextLoader(\"./madkudu.txt\")\n",
    "data = loader.load()"
   ]
  },
  {
   "cell_type": "code",
   "execution_count": 106,
   "metadata": {},
   "outputs": [],
   "source": [
    "from langchain_text_splitters import RecursiveCharacterTextSplitter\n",
    "\n",
    "text_splitter = RecursiveCharacterTextSplitter(chunk_size=500, chunk_overlap=0)\n",
    "all_splits = text_splitter.split_documents(data)"
   ]
  },
  {
   "cell_type": "code",
   "execution_count": 107,
   "metadata": {},
   "outputs": [],
   "source": [
    "from langchain_chroma import Chroma\n",
    "from langchain_openai import OpenAIEmbeddings\n",
    "\n",
    "vectorstore = Chroma.from_documents(documents=all_splits, embedding=OpenAIEmbeddings())"
   ]
  },
  {
   "cell_type": "code",
   "execution_count": 108,
   "metadata": {},
   "outputs": [
    {
     "data": {
      "text/plain": [
       "[Document(page_content='How do I perform GDPR-compliant requests in MadKudu?\\nRafikah Halim\\nHow to make GDPR requests\\nGet records deleted via CSV upload in MadKudu App\\nGet records deleted via MadKudu GDPR deleted\\nFor other types of requests', metadata={'source': './x.txt'}),\n",
       " Document(page_content='How do I perform GDPR-compliant requests in MadKudu?\\nRafikah Halim\\nHow to make GDPR requests\\nGet records deleted via CSV upload in MadKudu App\\nGet records deleted via MadKudu GDPR deleted\\nFor other types of requests', metadata={'source': './madkudu.txt'}),\n",
       " Document(page_content='How do I perform GDPR-compliant requests in MadKudu?\\nRafikah Halim\\nHow to make GDPR requests\\nGet records deleted via CSV upload in MadKudu App\\nGet records deleted via MadKudu GDPR deleted\\nFor other types of requests', metadata={'source': './madkudu.txt'}),\n",
       " Document(page_content='How do I perform GDPR-compliant requests in MadKudu?\\nRafikah Halim\\nHow to make GDPR requests\\nGet records deleted via CSV upload in MadKudu App\\nGet records deleted via MadKudu GDPR deleted\\nFor other types of requests', metadata={'source': './madkudu.txt'})]"
      ]
     },
     "execution_count": 108,
     "metadata": {},
     "output_type": "execute_result"
    }
   ],
   "source": [
    "retriever = vectorstore.as_retriever(k=4)\n",
    "\n",
    "docs = retriever.invoke(\"what is madkudu ?\")\n",
    "\n",
    "docs"
   ]
  },
  {
   "cell_type": "code",
   "execution_count": 109,
   "metadata": {},
   "outputs": [],
   "source": [
    "from langchain_core.prompts import ChatPromptTemplate, MessagesPlaceholder\n",
    "\n",
    "prompt = ChatPromptTemplate.from_messages(\n",
    "    [\n",
    "        (\n",
    "            \"system\",\n",
    "            \"You are a helpful assistant working at Madkudu. You will need to chat and respond about question to help the user.\",\n",
    "        ),\n",
    "        MessagesPlaceholder(variable_name=\"messages\"),\n",
    "        MessagesPlaceholder(variable_name=\"agent_scratchpad\"),\n",
    "    ]\n",
    ")"
   ]
  },
  {
   "cell_type": "code",
   "execution_count": 110,
   "metadata": {},
   "outputs": [],
   "source": [
    "from langchain.agents import AgentExecutor, create_openai_tools_agent\n",
    "\n",
    "agent = create_openai_tools_agent(chat, tools, prompt)\n",
    "\n",
    "agent_executor = AgentExecutor(agent=agent, tools=tools, verbose=True)"
   ]
  },
  {
   "cell_type": "code",
   "execution_count": 124,
   "metadata": {},
   "outputs": [
    {
     "name": "stdout",
     "output_type": "stream",
     "text": [
      "\n",
      "\n",
      "\u001b[1m> Entering new AgentExecutor chain...\u001b[0m\n",
      "\u001b[32;1m\u001b[1;3m\n",
      "Invoking: `tavily_search_results_json` with `{'query': 'How to perform GDPR-compliant requests in MadKudu'}`\n",
      "\n",
      "\n",
      "\u001b[0m\u001b[36;1m\u001b[1;3m[{'url': 'https://support.madkudu.com/hc/en-us', 'content': \"A guide through MadKudu Copilot features for Sales. Admin & AI Scoring . A guide through MadKudu's features made for Operations-oriented roles. How To's. Explore MadKudu platform through Marketing and Sales use cases . Video Tutorials & Webinar Replays. Get the most of MadKudu learning content in interactive format. [Sign in access only ...\"}]\u001b[0m\u001b[32;1m\u001b[1;3mYou can find information on how to perform GDPR-compliant requests in MadKudu by visiting the MadKudu support center at the following link: [MadKudu Support Center](https://support.madkudu.com/hc/en-us).\u001b[0m\n",
      "\n",
      "\u001b[1m> Finished chain.\u001b[0m\n"
     ]
    },
    {
     "data": {
      "text/plain": [
       "{'messages': [HumanMessage(content='How do I perform GDPR-compliant requests in MadKudu?')],\n",
       " 'output': 'You can find information on how to perform GDPR-compliant requests in MadKudu by visiting the MadKudu support center at the following link: [MadKudu Support Center](https://support.madkudu.com/hc/en-us).'}"
      ]
     },
     "execution_count": 124,
     "metadata": {},
     "output_type": "execute_result"
    }
   ],
   "source": [
    "from langchain_core.messages import HumanMessage\n",
    "\n",
    "agent_executor.invoke({\"messages\": [HumanMessage(content=\"How do I perform GDPR-compliant requests in MadKudu?\")]})"
   ]
  },
  {
   "cell_type": "code",
   "execution_count": 112,
   "metadata": {},
   "outputs": [],
   "source": [
    "from langchain.chains.combine_documents import create_stuff_documents_chain\n",
    "from langchain_core.prompts import ChatPromptTemplate, MessagesPlaceholder\n",
    "\n",
    "SYSTEM_TEMPLATE = \"\"\"\n",
    "Answer the user's questions based on the below context and any information you have about Madkudu.\n",
    "If the context doesn't contain any relevant information to the question, don't make something up and just say \"Im here to respond to madkudu question only\":\n",
    "\n",
    "<context>\n",
    "{context}\n",
    "</context>\n",
    "\"\"\"\n",
    "\n",
    "question_answering_prompt = ChatPromptTemplate.from_messages(\n",
    "    [\n",
    "        (\n",
    "            \"system\",\n",
    "            SYSTEM_TEMPLATE,\n",
    "        ),\n",
    "        MessagesPlaceholder(variable_name=\"messages\"),\n",
    "    ]\n",
    ")\n",
    "\n",
    "document_chain = create_stuff_documents_chain(chat, question_answering_prompt)"
   ]
  },
  {
   "cell_type": "code",
   "execution_count": 113,
   "metadata": {},
   "outputs": [
    {
     "data": {
      "text/plain": [
       "'To perform GDPR-compliant requests in MadKudu, you can follow these steps:\\n\\n1. Get records deleted via CSV upload in MadKudu App: You can upload a CSV file containing the records you want to be deleted to initiate the deletion process.\\n\\n2. Get records deleted via MadKudu GDPR deleted: You can use the specific feature or functionality within MadKudu designed for GDPR-related record deletion.\\n\\nFor other types of requests, you may need to refer to the specific documentation or support resources provided by MadKudu for guidance on how to make GDPR requests and ensure compliance with data protection regulations.'"
      ]
     },
     "execution_count": 113,
     "metadata": {},
     "output_type": "execute_result"
    }
   ],
   "source": [
    "from langchain_core.messages import HumanMessage\n",
    "\n",
    "document_chain.invoke(\n",
    "    {\n",
    "        \"context\": docs,\n",
    "        \"messages\": [\n",
    "            HumanMessage(content=\"How do I perform GDPR-compliant requests in MadKudu?\"),\n",
    "        ],\n",
    "    }\n",
    ")"
   ]
  },
  {
   "cell_type": "code",
   "execution_count": 123,
   "metadata": {},
   "outputs": [
    {
     "data": {
      "text/plain": [
       "'Madkudu is a predictive lead scoring and sales acceleration platform that helps businesses identify their best potential customers. It uses machine learning and predictive analytics to analyze customer data and provide insights into which leads are most likely to convert, allowing sales and marketing teams to prioritize their efforts effectively.'"
      ]
     },
     "execution_count": 123,
     "metadata": {},
     "output_type": "execute_result"
    }
   ],
   "source": [
    "document_chain.invoke(\n",
    "    {\n",
    "        \"context\": [],\n",
    "        \"messages\": [\n",
    "            HumanMessage(content=\"what is madkudu ?\")\n",
    "        ],\n",
    "    }\n",
    ")"
   ]
  },
  {
   "cell_type": "code",
   "execution_count": 121,
   "metadata": {},
   "outputs": [],
   "source": [
    "from typing import Dict\n",
    "\n",
    "from langchain_core.runnables import RunnablePassthrough\n",
    "\n",
    "\n",
    "def parse_retriever_input(params: Dict):\n",
    "    return params[\"messages\"][-1].content\n",
    "\n",
    "\n",
    "retrieval_chain = RunnablePassthrough.assign(\n",
    "    context=parse_retriever_input | retriever,\n",
    ").assign(\n",
    "    answer=document_chain,\n",
    ")"
   ]
  }
 ],
 "metadata": {
  "kernelspec": {
   "display_name": "base",
   "language": "python",
   "name": "python3"
  },
  "language_info": {
   "codemirror_mode": {
    "name": "ipython",
    "version": 3
   },
   "file_extension": ".py",
   "mimetype": "text/x-python",
   "name": "python",
   "nbconvert_exporter": "python",
   "pygments_lexer": "ipython3",
   "version": "3.11.7"
  }
 },
 "nbformat": 4,
 "nbformat_minor": 2
}
